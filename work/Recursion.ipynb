{
 "cells": [
  {
   "cell_type": "markdown",
   "id": "2b89ab0e",
   "metadata": {},
   "source": [
    "# How it works and some examples"
   ]
  },
  {
   "cell_type": "code",
   "execution_count": 1,
   "id": "7b89fb6b",
   "metadata": {},
   "outputs": [],
   "source": [
    "# def RecursionMethod(parameters):\n",
    "#     if exit from condition satisfied:\n",
    "#         return some value\n",
    "#     else RecursionMethod(modifed parameters)"
   ]
  },
  {
   "cell_type": "markdown",
   "id": "69535fbb",
   "metadata": {},
   "source": [
    "1. Link with the stack memory for the call functions.\n",
    "2. Problem with memory management.\n",
    "3. Usage when we can reduce a problem in smaller similar problems to solve.\n",
    "4. Useful for trees and graphs.\n",
    "5. Iteration can be better in space and time complexity but it depends.\n",
    "6. Useful for memoization. (DP)\n",
    "7. When to avoid recursion? If we can't reduce the problem into smaller similar problems, when we are limited in time & space complexity and recursion be slow."
   ]
  },
  {
   "cell_type": "code",
   "execution_count": null,
   "id": "cd79a356",
   "metadata": {},
   "outputs": [],
   "source": []
  }
 ],
 "metadata": {
  "kernelspec": {
   "display_name": "Python 3 (ipykernel)",
   "language": "python",
   "name": "python3"
  },
  "language_info": {
   "codemirror_mode": {
    "name": "ipython",
    "version": 3
   },
   "file_extension": ".py",
   "mimetype": "text/x-python",
   "name": "python",
   "nbconvert_exporter": "python",
   "pygments_lexer": "ipython3",
   "version": "3.8.8"
  }
 },
 "nbformat": 4,
 "nbformat_minor": 5
}
