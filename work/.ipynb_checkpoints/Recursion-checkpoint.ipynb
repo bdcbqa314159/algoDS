{
 "cells": [
  {
   "cell_type": "markdown",
   "id": "d7f8fa35",
   "metadata": {},
   "source": [
    "# How it works and some examples"
   ]
  },
  {
   "cell_type": "code",
   "execution_count": 1,
   "id": "6f719fba",
   "metadata": {},
   "outputs": [],
   "source": [
    "# def RecursionMethod(parameters):\n",
    "#     if exit from condition satisfied:\n",
    "#         return some value\n",
    "#     else RecursionMethod(modifed parameters)"
   ]
  },
  {
   "cell_type": "markdown",
   "id": "e820c258",
   "metadata": {},
   "source": [
    "1. Link with the stack memory for the call functions.\n",
    "2. Problem with memory management.\n",
    "3. Usage when we can reduce a problem in smaller similar problems to solve.\n",
    "4. Relevant for trees and graphs."
   ]
  },
  {
   "cell_type": "code",
   "execution_count": null,
   "id": "fd8f5f69",
   "metadata": {},
   "outputs": [],
   "source": []
  }
 ],
 "metadata": {
  "kernelspec": {
   "display_name": "Python 3 (ipykernel)",
   "language": "python",
   "name": "python3"
  },
  "language_info": {
   "codemirror_mode": {
    "name": "ipython",
    "version": 3
   },
   "file_extension": ".py",
   "mimetype": "text/x-python",
   "name": "python",
   "nbconvert_exporter": "python",
   "pygments_lexer": "ipython3",
   "version": "3.8.8"
  }
 },
 "nbformat": 4,
 "nbformat_minor": 5
}
